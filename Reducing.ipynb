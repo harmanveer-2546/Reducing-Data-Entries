{
 "cells": [
  {
   "cell_type": "code",
   "execution_count": 1,
   "id": "d9c07c84",
   "metadata": {},
   "outputs": [],
   "source": [
    "#Imports-\n",
    "\n",
    "import numpy as np\n",
    "import pandas as pd"
   ]
  },
  {
   "cell_type": "markdown",
   "id": "eeb53997",
   "metadata": {},
   "source": [
    "### Reading File-"
   ]
  },
  {
   "cell_type": "code",
   "execution_count": 15,
   "id": "4fc80c53",
   "metadata": {},
   "outputs": [],
   "source": [
    "bird = pd.read_csv('E:/birds.csv')"
   ]
  },
  {
   "cell_type": "code",
   "execution_count": 16,
   "id": "e2853b84",
   "metadata": {},
   "outputs": [
    {
     "data": {
      "text/html": [
       "<div>\n",
       "<style scoped>\n",
       "    .dataframe tbody tr th:only-of-type {\n",
       "        vertical-align: middle;\n",
       "    }\n",
       "\n",
       "    .dataframe tbody tr th {\n",
       "        vertical-align: top;\n",
       "    }\n",
       "\n",
       "    .dataframe thead th {\n",
       "        text-align: right;\n",
       "    }\n",
       "</style>\n",
       "<table border=\"1\" class=\"dataframe\">\n",
       "  <thead>\n",
       "    <tr style=\"text-align: right;\">\n",
       "      <th></th>\n",
       "      <th>class id</th>\n",
       "      <th>filepaths</th>\n",
       "      <th>labels</th>\n",
       "      <th>data set</th>\n",
       "      <th>scientific name</th>\n",
       "    </tr>\n",
       "  </thead>\n",
       "  <tbody>\n",
       "    <tr>\n",
       "      <th>0</th>\n",
       "      <td>0.0</td>\n",
       "      <td>train/ABBOTTS BABBLER/001.jpg</td>\n",
       "      <td>ABBOTTS BABBLER</td>\n",
       "      <td>train</td>\n",
       "      <td>MALACOCINCLA ABBOTTI</td>\n",
       "    </tr>\n",
       "    <tr>\n",
       "      <th>1</th>\n",
       "      <td>0.0</td>\n",
       "      <td>train/ABBOTTS BABBLER/007.jpg</td>\n",
       "      <td>ABBOTTS BABBLER</td>\n",
       "      <td>train</td>\n",
       "      <td>MALACOCINCLA ABBOTTI</td>\n",
       "    </tr>\n",
       "    <tr>\n",
       "      <th>2</th>\n",
       "      <td>0.0</td>\n",
       "      <td>train/ABBOTTS BABBLER/008.jpg</td>\n",
       "      <td>ABBOTTS BABBLER</td>\n",
       "      <td>train</td>\n",
       "      <td>MALACOCINCLA ABBOTTI</td>\n",
       "    </tr>\n",
       "    <tr>\n",
       "      <th>3</th>\n",
       "      <td>0.0</td>\n",
       "      <td>train/ABBOTTS BABBLER/009.jpg</td>\n",
       "      <td>ABBOTTS BABBLER</td>\n",
       "      <td>train</td>\n",
       "      <td>MALACOCINCLA ABBOTTI</td>\n",
       "    </tr>\n",
       "    <tr>\n",
       "      <th>4</th>\n",
       "      <td>0.0</td>\n",
       "      <td>train/ABBOTTS BABBLER/002.jpg</td>\n",
       "      <td>ABBOTTS BABBLER</td>\n",
       "      <td>train</td>\n",
       "      <td>MALACOCINCLA ABBOTTI</td>\n",
       "    </tr>\n",
       "  </tbody>\n",
       "</table>\n",
       "</div>"
      ],
      "text/plain": [
       "   class id                      filepaths           labels data set  \\\n",
       "0       0.0  train/ABBOTTS BABBLER/001.jpg  ABBOTTS BABBLER    train   \n",
       "1       0.0  train/ABBOTTS BABBLER/007.jpg  ABBOTTS BABBLER    train   \n",
       "2       0.0  train/ABBOTTS BABBLER/008.jpg  ABBOTTS BABBLER    train   \n",
       "3       0.0  train/ABBOTTS BABBLER/009.jpg  ABBOTTS BABBLER    train   \n",
       "4       0.0  train/ABBOTTS BABBLER/002.jpg  ABBOTTS BABBLER    train   \n",
       "\n",
       "        scientific name  \n",
       "0  MALACOCINCLA ABBOTTI  \n",
       "1  MALACOCINCLA ABBOTTI  \n",
       "2  MALACOCINCLA ABBOTTI  \n",
       "3  MALACOCINCLA ABBOTTI  \n",
       "4  MALACOCINCLA ABBOTTI  "
      ]
     },
     "execution_count": 16,
     "metadata": {},
     "output_type": "execute_result"
    }
   ],
   "source": [
    "bird.head()"
   ]
  },
  {
   "cell_type": "markdown",
   "id": "5ff87067",
   "metadata": {},
   "source": [
    "### Storing in a variable and putting check till where the data entries are required -"
   ]
  },
  {
   "cell_type": "markdown",
   "id": "2d74bc47",
   "metadata": {},
   "source": [
    "#### Like in this dataset there are 525 species of Birds, but I wanted to try for first 5 species only. So I put check on this dataset and got only first 5 species. "
   ]
  },
  {
   "cell_type": "code",
   "execution_count": 17,
   "id": "edc23f29",
   "metadata": {},
   "outputs": [],
   "source": [
    "x = bird[bird['class id']<=5]"
   ]
  },
  {
   "cell_type": "code",
   "execution_count": 18,
   "id": "e8a75091",
   "metadata": {},
   "outputs": [
    {
     "data": {
      "text/html": [
       "<div>\n",
       "<style scoped>\n",
       "    .dataframe tbody tr th:only-of-type {\n",
       "        vertical-align: middle;\n",
       "    }\n",
       "\n",
       "    .dataframe tbody tr th {\n",
       "        vertical-align: top;\n",
       "    }\n",
       "\n",
       "    .dataframe thead th {\n",
       "        text-align: right;\n",
       "    }\n",
       "</style>\n",
       "<table border=\"1\" class=\"dataframe\">\n",
       "  <thead>\n",
       "    <tr style=\"text-align: right;\">\n",
       "      <th></th>\n",
       "      <th>class id</th>\n",
       "      <th>filepaths</th>\n",
       "      <th>labels</th>\n",
       "      <th>data set</th>\n",
       "      <th>scientific name</th>\n",
       "    </tr>\n",
       "  </thead>\n",
       "  <tbody>\n",
       "    <tr>\n",
       "      <th>87285</th>\n",
       "      <td>5.0</td>\n",
       "      <td>valid/AFRICAN FIREFINCH/1.jpg</td>\n",
       "      <td>AFRICAN FIREFINCH</td>\n",
       "      <td>valid</td>\n",
       "      <td>LAGONOSTICTA RUBRICATA</td>\n",
       "    </tr>\n",
       "    <tr>\n",
       "      <th>87286</th>\n",
       "      <td>5.0</td>\n",
       "      <td>valid/AFRICAN FIREFINCH/2.jpg</td>\n",
       "      <td>AFRICAN FIREFINCH</td>\n",
       "      <td>valid</td>\n",
       "      <td>LAGONOSTICTA RUBRICATA</td>\n",
       "    </tr>\n",
       "    <tr>\n",
       "      <th>87287</th>\n",
       "      <td>5.0</td>\n",
       "      <td>valid/AFRICAN FIREFINCH/3.jpg</td>\n",
       "      <td>AFRICAN FIREFINCH</td>\n",
       "      <td>valid</td>\n",
       "      <td>LAGONOSTICTA RUBRICATA</td>\n",
       "    </tr>\n",
       "    <tr>\n",
       "      <th>87288</th>\n",
       "      <td>5.0</td>\n",
       "      <td>valid/AFRICAN FIREFINCH/4.jpg</td>\n",
       "      <td>AFRICAN FIREFINCH</td>\n",
       "      <td>valid</td>\n",
       "      <td>LAGONOSTICTA RUBRICATA</td>\n",
       "    </tr>\n",
       "    <tr>\n",
       "      <th>87289</th>\n",
       "      <td>5.0</td>\n",
       "      <td>valid/AFRICAN FIREFINCH/5.jpg</td>\n",
       "      <td>AFRICAN FIREFINCH</td>\n",
       "      <td>valid</td>\n",
       "      <td>LAGONOSTICTA RUBRICATA</td>\n",
       "    </tr>\n",
       "  </tbody>\n",
       "</table>\n",
       "</div>"
      ],
      "text/plain": [
       "       class id                      filepaths             labels data set  \\\n",
       "87285       5.0  valid/AFRICAN FIREFINCH/1.jpg  AFRICAN FIREFINCH    valid   \n",
       "87286       5.0  valid/AFRICAN FIREFINCH/2.jpg  AFRICAN FIREFINCH    valid   \n",
       "87287       5.0  valid/AFRICAN FIREFINCH/3.jpg  AFRICAN FIREFINCH    valid   \n",
       "87288       5.0  valid/AFRICAN FIREFINCH/4.jpg  AFRICAN FIREFINCH    valid   \n",
       "87289       5.0  valid/AFRICAN FIREFINCH/5.jpg  AFRICAN FIREFINCH    valid   \n",
       "\n",
       "              scientific name  \n",
       "87285  LAGONOSTICTA RUBRICATA  \n",
       "87286  LAGONOSTICTA RUBRICATA  \n",
       "87287  LAGONOSTICTA RUBRICATA  \n",
       "87288  LAGONOSTICTA RUBRICATA  \n",
       "87289  LAGONOSTICTA RUBRICATA  "
      ]
     },
     "execution_count": 18,
     "metadata": {},
     "output_type": "execute_result"
    }
   ],
   "source": [
    "x.tail()"
   ]
  },
  {
   "cell_type": "markdown",
   "id": "70c2a184",
   "metadata": {},
   "source": [
    "### And then when you got the entries reduced, convert it into new file -"
   ]
  },
  {
   "cell_type": "code",
   "execution_count": 19,
   "id": "80dea626",
   "metadata": {},
   "outputs": [],
   "source": [
    "x.to_csv('bird.csv')"
   ]
  }
 ],
 "metadata": {
  "kernelspec": {
   "display_name": "Python 3 (ipykernel)",
   "language": "python",
   "name": "python3"
  },
  "language_info": {
   "codemirror_mode": {
    "name": "ipython",
    "version": 3
   },
   "file_extension": ".py",
   "mimetype": "text/x-python",
   "name": "python",
   "nbconvert_exporter": "python",
   "pygments_lexer": "ipython3",
   "version": "3.10.9"
  }
 },
 "nbformat": 4,
 "nbformat_minor": 5
}
